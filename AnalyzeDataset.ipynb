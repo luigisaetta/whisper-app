{
 "cells": [
  {
   "cell_type": "markdown",
   "id": "39dd486c",
   "metadata": {},
   "source": [
    "## Analyze Dataset\n",
    "\n",
    "This notebook can be used to make some analysis on **Audio Dataset** from HF\n",
    "\n",
    "For now, it is used to gather some numbers on **it** split of Common Voice 11"
   ]
  },
  {
   "cell_type": "code",
   "execution_count": 12,
   "id": "2ab1d222",
   "metadata": {},
   "outputs": [],
   "source": [
    "from datasets import load_dataset"
   ]
  },
  {
   "cell_type": "code",
   "execution_count": 13,
   "id": "1dae8d24",
   "metadata": {},
   "outputs": [],
   "source": [
    "LANG = \"it\"\n",
    "\n",
    "DATASET_NAME = \"mozilla-foundation/common_voice_11_0\""
   ]
  },
  {
   "cell_type": "code",
   "execution_count": 14,
   "id": "d2af9ccc",
   "metadata": {},
   "outputs": [
    {
     "name": "stderr",
     "output_type": "stream",
     "text": [
      "Found cached dataset common_voice_11_0 (/Users/lsaetta/.cache/huggingface/datasets/mozilla-foundation___common_voice_11_0/it/11.0.0/f8e47235d9b4e68fa24ed71d63266a02018ccf7194b2a8c9c598a5f3ab304d9f)\n"
     ]
    },
    {
     "data": {
      "application/vnd.jupyter.widget-view+json": {
       "model_id": "a833b10028b94e75806b79f40dbf3c53",
       "version_major": 2,
       "version_minor": 0
      },
      "text/plain": [
       "  0%|          | 0/5 [00:00<?, ?it/s]"
      ]
     },
     "metadata": {},
     "output_type": "display_data"
    }
   ],
   "source": [
    "common_voice = load_dataset(\"mozilla-foundation/common_voice_11_0\", LANG)"
   ]
  },
  {
   "cell_type": "code",
   "execution_count": 15,
   "id": "c928b918",
   "metadata": {},
   "outputs": [
    {
     "name": "stdout",
     "output_type": "stream",
     "text": [
      "Number of samples in train split: 152609\n",
      "Number of samples in validation split: 14997\n",
      "Number of samples in test split: 15003\n"
     ]
    }
   ],
   "source": [
    "# let's count\n",
    "print(f\"Number of samples in train split: {len(common_voice['train'])}\")\n",
    "print(f\"Number of samples in validation split: {len(common_voice['validation'])}\")\n",
    "print(f\"Number of samples in test split: {len(common_voice['test'])}\")"
   ]
  },
  {
   "cell_type": "code",
   "execution_count": 16,
   "id": "81c9d090",
   "metadata": {},
   "outputs": [],
   "source": [
    "common_voice_train = common_voice['train']"
   ]
  },
  {
   "cell_type": "code",
   "execution_count": 17,
   "id": "d1e4bdf0",
   "metadata": {},
   "outputs": [
    {
     "data": {
      "text/plain": [
       "{'client_id': Value(dtype='string', id=None),\n",
       " 'path': Value(dtype='string', id=None),\n",
       " 'audio': Audio(sampling_rate=48000, mono=True, decode=True, id=None),\n",
       " 'sentence': Value(dtype='string', id=None),\n",
       " 'up_votes': Value(dtype='int64', id=None),\n",
       " 'down_votes': Value(dtype='int64', id=None),\n",
       " 'age': Value(dtype='string', id=None),\n",
       " 'gender': Value(dtype='string', id=None),\n",
       " 'accent': Value(dtype='string', id=None),\n",
       " 'locale': Value(dtype='string', id=None),\n",
       " 'segment': Value(dtype='string', id=None)}"
      ]
     },
     "execution_count": 17,
     "metadata": {},
     "output_type": "execute_result"
    }
   ],
   "source": [
    "common_voice_train.features"
   ]
  },
  {
   "cell_type": "code",
   "execution_count": null,
   "id": "10e1f4f0",
   "metadata": {},
   "outputs": [],
   "source": []
  }
 ],
 "metadata": {
  "kernelspec": {
   "display_name": "Python 3 (ipykernel)",
   "language": "python",
   "name": "python3"
  },
  "language_info": {
   "codemirror_mode": {
    "name": "ipython",
    "version": 3
   },
   "file_extension": ".py",
   "mimetype": "text/x-python",
   "name": "python",
   "nbconvert_exporter": "python",
   "pygments_lexer": "ipython3",
   "version": "3.10.6"
  }
 },
 "nbformat": 4,
 "nbformat_minor": 5
}
